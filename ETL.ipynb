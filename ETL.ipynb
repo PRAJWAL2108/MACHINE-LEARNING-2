{
  "nbformat": 4,
  "nbformat_minor": 0,
  "metadata": {
    "kernelspec": {
      "display_name": "Python 3",
      "language": "python",
      "name": "python3"
    },
    "language_info": {
      "codemirror_mode": {
        "name": "ipython",
        "version": 3
      },
      "file_extension": ".py",
      "mimetype": "text/x-python",
      "name": "python",
      "nbconvert_exporter": "python",
      "pygments_lexer": "ipython3",
      "version": "3.8.0"
    },
    "colab": {
      "name": "ETL.ipynb",
      "provenance": [],
      "include_colab_link": true
    }
  },
  "cells": [
    {
      "cell_type": "markdown",
      "metadata": {
        "id": "view-in-github",
        "colab_type": "text"
      },
      "source": [
        "<a href=\"https://colab.research.google.com/github/PRAJWAL2108/MACHINE-LEARNING-2/blob/main/ETL.ipynb\" target=\"_parent\"><img src=\"https://colab.research.google.com/assets/colab-badge.svg\" alt=\"Open In Colab\"/></a>"
      ]
    },
    {
      "cell_type": "markdown",
      "metadata": {
        "id": "xDUGNcZo5lSO"
      },
      "source": [
        "# ETL - Extract Transform and Load"
      ]
    },
    {
      "cell_type": "markdown",
      "metadata": {
        "id": "R9I4Aefd5s0x"
      },
      "source": [
        "*   ETL is process of obtaining the data, cleaning the data  (extracted), wrangling the data (transformed), and then it is placed into a user-friendly data structure like a data frame (loaded).\n",
        "---\n",
        "*   First we will set up a link to an API and make calls to it.\n",
        "*   The API being used here is ROM Exchanga API; it is publicly available that has been keeping track of the market price of items on two different servers of the game Ragnarok Mobile. \n",
        "*   API’s are a very common set of tools and protocols that allow interaction between applications, code, projects and machines. \n",
        "*   An API is another kind of user interface but the user is not a human being, it’s a machine( a software application running on your computer for example).\n",
        "*   It allows a machine to access information and is designed so it can do it easily. \n",
        "*   If one device or machine wants to talk to another or get information from another it can do this through an API.\n",
        "* The action of sending a request to an endpoint on a server is known as making a call to an API.\n",
        "* An endpoint is a destination perhaps on a server or service. \n",
        "*   Requests allows you to send HTTP/1.1 requests extremely easily. There’s no need to manually add query strings to your URLs, or to form-encode your POST data. "
      ]
    },
    {
      "cell_type": "code",
      "metadata": {
        "id": "qyVPne1Y5Rez"
      },
      "source": [
        "import requests"
      ],
      "execution_count": 1,
      "outputs": []
    },
    {
      "cell_type": "code",
      "metadata": {
        "colab": {
          "base_uri": "https://localhost:8080/"
        },
        "id": "JqapNg4T5RfE",
        "outputId": "1e6fccd6-4e91-4421-c2de-13a3e06f6b80"
      },
      "source": [
        "pip install --upgrade requests"
      ],
      "execution_count": 2,
      "outputs": [
        {
          "output_type": "stream",
          "text": [
            "Requirement already up-to-date: requests in /usr/local/lib/python3.7/dist-packages (2.25.1)\n",
            "Requirement already satisfied, skipping upgrade: certifi>=2017.4.17 in /usr/local/lib/python3.7/dist-packages (from requests) (2020.12.5)\n",
            "Requirement already satisfied, skipping upgrade: chardet<5,>=3.0.2 in /usr/local/lib/python3.7/dist-packages (from requests) (3.0.4)\n",
            "Requirement already satisfied, skipping upgrade: urllib3<1.27,>=1.21.1 in /usr/local/lib/python3.7/dist-packages (from requests) (1.24.3)\n",
            "Requirement already satisfied, skipping upgrade: idna<3,>=2.5 in /usr/local/lib/python3.7/dist-packages (from requests) (2.10)\n"
          ],
          "name": "stdout"
        }
      ]
    },
    {
      "cell_type": "markdown",
      "metadata": {
        "id": "719B7BMZFSEI"
      },
      "source": [
        "* We declare ‘r’ as our response object. we use the .get() method from the requests library to obtain a response from the URL of our choice"
      ]
    },
    {
      "cell_type": "code",
      "metadata": {
        "id": "5VJMaCF-5RfG"
      },
      "source": [
        "#romexchange website\n",
        "r = requests.get('https://www.romexchange.com/')"
      ],
      "execution_count": 3,
      "outputs": []
    },
    {
      "cell_type": "markdown",
      "metadata": {
        "id": "teaGGe2mFXk8"
      },
      "source": [
        "* status code command is used to see what kind of response we have received."
      ]
    },
    {
      "cell_type": "code",
      "metadata": {
        "colab": {
          "base_uri": "https://localhost:8080/"
        },
        "id": "8HMBuv745RfH",
        "outputId": "6affc55e-596f-4079-9a15-6e6312fe9e05"
      },
      "source": [
        "#see what kind of a response we got using the status code command\n",
        "r.status_code"
      ],
      "execution_count": 4,
      "outputs": [
        {
          "output_type": "execute_result",
          "data": {
            "text/plain": [
              "406"
            ]
          },
          "metadata": {
            "tags": []
          },
          "execution_count": 4
        }
      ]
    },
    {
      "cell_type": "code",
      "metadata": {
        "id": "JpjBmGVb5RfI"
      },
      "source": [
        "#content-type we’re expecting is going to be recognised as application/json\n",
        "url = 'https://www.romexchange.com/' \n",
        "\n",
        "headers = { 'Content-type': 'application/json'}"
      ],
      "execution_count": 5,
      "outputs": []
    },
    {
      "cell_type": "code",
      "metadata": {
        "id": "pfNkunFG5RfJ"
      },
      "source": [
        "r = requests.get(url, headers = headers)"
      ],
      "execution_count": 6,
      "outputs": []
    },
    {
      "cell_type": "code",
      "metadata": {
        "id": "yKsD-oTU5RfK"
      },
      "source": [
        "#add the User-Agent change found in that solution code to our headers params\n",
        "url = 'https://www.romexchange.com/' \n",
        "\n",
        "headers = {'User-Agent': 'XY','Content-type': 'application/json'}\n",
        "r = requests.get(url, headers=headers)"
      ],
      "execution_count": 7,
      "outputs": []
    },
    {
      "cell_type": "code",
      "metadata": {
        "colab": {
          "base_uri": "https://localhost:8080/"
        },
        "id": "NnvkgwyS5RfL",
        "outputId": "4aab5aca-6d71-4cee-d053-e1ca24e6a2c3"
      },
      "source": [
        "r.status_code"
      ],
      "execution_count": 8,
      "outputs": [
        {
          "output_type": "execute_result",
          "data": {
            "text/plain": [
              "200"
            ]
          },
          "metadata": {
            "tags": []
          },
          "execution_count": 8
        }
      ]
    },
    {
      "cell_type": "code",
      "metadata": {
        "colab": {
          "base_uri": "https://localhost:8080/"
        },
        "id": "By8P22k75RfM",
        "outputId": "18b30b53-111f-4653-8eed-c0a01f0a63ea"
      },
      "source": [
        "url = 'https://www.romexchange.com/api?item=mastela&exact=false'\n",
        "headers = {'User-Agent': 'XY', 'Content-type': 'application/json'}\n",
        "\n",
        "r = requests.get(url, headers = headers)\n",
        "r.status_code"
      ],
      "execution_count": 9,
      "outputs": [
        {
          "output_type": "execute_result",
          "data": {
            "text/plain": [
              "200"
            ]
          },
          "metadata": {
            "tags": []
          },
          "execution_count": 9
        }
      ]
    },
    {
      "cell_type": "code",
      "metadata": {
        "colab": {
          "base_uri": "https://localhost:8080/",
          "height": 137
        },
        "id": "bT4Hz8_X5RfO",
        "outputId": "bd8b6fa2-218d-449a-a8de-12a4c0598eee"
      },
      "source": [
        "r.text "
      ],
      "execution_count": 10,
      "outputs": [
        {
          "output_type": "execute_result",
          "data": {
            "application/vnd.google.colaboratory.intrinsic+json": {
              "type": "string"
            },
            "text/plain": [
              "'[{\"name\":\"Mastela Fruit\",\"type\":8,\"image\":null,\"global_sea_diff\":-31.10000000000000142108547152020037174224853515625,\"global\":{\"week\":{\"data\":[{\"snap\":true,\"price\":1330930,\"time\":\"2020-01-07T08:26:57Z\"},{\"snap\":true,\"price\":1271953,\"time\":\"2020-01-08T08:13:52Z\"},{\"snap\":true,\"price\":1103197,\"time\":\"2020-01-09T08:31:43Z\"},{\"snap\":true,\"price\":1239346,\"time\":\"2020-01-11T08:33:59Z\"},{\"snap\":true,\"price\":1062386,\"time\":\"2020-01-14T08:20:20Z\"}],\"change\":-20.199999999999999289457264239899814128875732421875},\"latest\":1062386,\"latest_time\":\"2020-01-14T08:20:20Z\"},\"sea\":{\"week\":{\"data\":[{\"snap\":false,\"price\":699973,\"time\":\"2020-01-07T11:08:25Z\"},{\"snap\":false,\"price\":674722,\"time\":\"2020-01-08T10:52:15Z\"},{\"snap\":false,\"price\":665887,\"time\":\"2020-01-09T11:24:06Z\"},{\"snap\":true,\"price\":661969,\"time\":\"2020-01-10T11:48:26Z\"},{\"snap\":true,\"price\":693119,\"time\":\"2020-01-11T11:35:06Z\"},{\"snap\":false,\"price\":731711,\"time\":\"2020-01-14T11:03:14Z\"}],\"change\":4.5},\"latest\":731711,\"latest_time\":\"2020-01-14T11:03:14Z\"}},{\"name\":\"Seed of Mastela\",\"type\":11,\"image\":null,\"global_sea_diff\":-31.800000000000000710542735760100185871124267578125,\"global\":{\"week\":{\"data\":[{\"snap\":false,\"price\":251375,\"time\":\"2020-01-08T08:20:23Z\"},{\"snap\":false,\"price\":217693,\"time\":\"2020-01-09T08:38:57Z\"},{\"snap\":false,\"price\":268589,\"time\":\"2020-01-10T08:35:46Z\"},{\"snap\":false,\"price\":245010,\"time\":\"2020-01-11T08:41:27Z\"},{\"snap\":false,\"price\":215300,\"time\":\"2020-01-12T08:34:31Z\"},{\"snap\":false,\"price\":210296,\"time\":\"2020-01-13T08:35:10Z\"},{\"snap\":false,\"price\":209658,\"time\":\"2020-01-14T08:26:39Z\"}],\"change\":-16.60000000000000142108547152020037174224853515625},\"latest\":209658,\"latest_time\":\"2020-01-14T08:26:39Z\"},\"sea\":{\"week\":{\"data\":[{\"snap\":false,\"price\":131573,\"time\":\"2020-01-08T10:58:01Z\"},{\"snap\":false,\"price\":129889,\"time\":\"2020-01-09T11:30:09Z\"},{\"snap\":false,\"price\":129093,\"time\":\"2020-01-10T11:54:12Z\"},{\"snap\":true,\"price\":135391,\"time\":\"2020-01-11T11:40:56Z\"},{\"snap\":true,\"price\":142009,\"time\":\"2020-01-12T11:15:55Z\"},{\"snap\":false,\"price\":147192,\"time\":\"2020-01-13T11:24:25Z\"},{\"snap\":false,\"price\":143017,\"time\":\"2020-01-14T11:10:36Z\"}],\"change\":8.699999999999999289457264239899814128875732421875},\"latest\":143017,\"latest_time\":\"2020-01-14T11:10:36Z\"}}]'"
            ]
          },
          "metadata": {
            "tags": []
          },
          "execution_count": 10
        }
      ]
    },
    {
      "cell_type": "markdown",
      "metadata": {
        "id": "pJ6dlFwpF2PW"
      },
      "source": [
        "* The above data is a list of dictionaries. It is difficult to read this. We can clean this up using JavaScript Object Notation (JSON)."
      ]
    },
    {
      "cell_type": "markdown",
      "metadata": {
        "id": "2OhGTLmD5RfP"
      },
      "source": [
        "# EXTRACT"
      ]
    },
    {
      "cell_type": "markdown",
      "metadata": {
        "id": "LvN5nMIVF_1A"
      },
      "source": [
        "* The JSON decoder is inbuilt into the Python request library. \n",
        "* It will allow us to observe the request payload (the returned data ) in a more visually pleasing way. "
      ]
    },
    {
      "cell_type": "code",
      "metadata": {
        "id": "1DPENKm45RfQ"
      },
      "source": [
        "#JSONify the data\n",
        "j = r.json()"
      ],
      "execution_count": 11,
      "outputs": []
    },
    {
      "cell_type": "code",
      "metadata": {
        "colab": {
          "base_uri": "https://localhost:8080/"
        },
        "id": "nVtlscCo5RfR",
        "outputId": "34f0fd6d-8bed-4522-cf2f-9341d27b53d0"
      },
      "source": [
        "type(j)"
      ],
      "execution_count": 12,
      "outputs": [
        {
          "output_type": "execute_result",
          "data": {
            "text/plain": [
              "list"
            ]
          },
          "metadata": {
            "tags": []
          },
          "execution_count": 12
        }
      ]
    },
    {
      "cell_type": "code",
      "metadata": {
        "colab": {
          "base_uri": "https://localhost:8080/"
        },
        "id": "ucRUaX8N5RfS",
        "outputId": "91ffbdd1-9fdd-44f4-9610-655fc25b2d9c"
      },
      "source": [
        "j"
      ],
      "execution_count": 13,
      "outputs": [
        {
          "output_type": "execute_result",
          "data": {
            "text/plain": [
              "[{'global': {'latest': 1062386,\n",
              "   'latest_time': '2020-01-14T08:20:20Z',\n",
              "   'week': {'change': -20.2,\n",
              "    'data': [{'price': 1330930, 'snap': True, 'time': '2020-01-07T08:26:57Z'},\n",
              "     {'price': 1271953, 'snap': True, 'time': '2020-01-08T08:13:52Z'},\n",
              "     {'price': 1103197, 'snap': True, 'time': '2020-01-09T08:31:43Z'},\n",
              "     {'price': 1239346, 'snap': True, 'time': '2020-01-11T08:33:59Z'},\n",
              "     {'price': 1062386, 'snap': True, 'time': '2020-01-14T08:20:20Z'}]}},\n",
              "  'global_sea_diff': -31.1,\n",
              "  'image': None,\n",
              "  'name': 'Mastela Fruit',\n",
              "  'sea': {'latest': 731711,\n",
              "   'latest_time': '2020-01-14T11:03:14Z',\n",
              "   'week': {'change': 4.5,\n",
              "    'data': [{'price': 699973, 'snap': False, 'time': '2020-01-07T11:08:25Z'},\n",
              "     {'price': 674722, 'snap': False, 'time': '2020-01-08T10:52:15Z'},\n",
              "     {'price': 665887, 'snap': False, 'time': '2020-01-09T11:24:06Z'},\n",
              "     {'price': 661969, 'snap': True, 'time': '2020-01-10T11:48:26Z'},\n",
              "     {'price': 693119, 'snap': True, 'time': '2020-01-11T11:35:06Z'},\n",
              "     {'price': 731711, 'snap': False, 'time': '2020-01-14T11:03:14Z'}]}},\n",
              "  'type': 8},\n",
              " {'global': {'latest': 209658,\n",
              "   'latest_time': '2020-01-14T08:26:39Z',\n",
              "   'week': {'change': -16.6,\n",
              "    'data': [{'price': 251375, 'snap': False, 'time': '2020-01-08T08:20:23Z'},\n",
              "     {'price': 217693, 'snap': False, 'time': '2020-01-09T08:38:57Z'},\n",
              "     {'price': 268589, 'snap': False, 'time': '2020-01-10T08:35:46Z'},\n",
              "     {'price': 245010, 'snap': False, 'time': '2020-01-11T08:41:27Z'},\n",
              "     {'price': 215300, 'snap': False, 'time': '2020-01-12T08:34:31Z'},\n",
              "     {'price': 210296, 'snap': False, 'time': '2020-01-13T08:35:10Z'},\n",
              "     {'price': 209658, 'snap': False, 'time': '2020-01-14T08:26:39Z'}]}},\n",
              "  'global_sea_diff': -31.8,\n",
              "  'image': None,\n",
              "  'name': 'Seed of Mastela',\n",
              "  'sea': {'latest': 143017,\n",
              "   'latest_time': '2020-01-14T11:10:36Z',\n",
              "   'week': {'change': 8.7,\n",
              "    'data': [{'price': 131573, 'snap': False, 'time': '2020-01-08T10:58:01Z'},\n",
              "     {'price': 129889, 'snap': False, 'time': '2020-01-09T11:30:09Z'},\n",
              "     {'price': 129093, 'snap': False, 'time': '2020-01-10T11:54:12Z'},\n",
              "     {'price': 135391, 'snap': True, 'time': '2020-01-11T11:40:56Z'},\n",
              "     {'price': 142009, 'snap': True, 'time': '2020-01-12T11:15:55Z'},\n",
              "     {'price': 147192, 'snap': False, 'time': '2020-01-13T11:24:25Z'},\n",
              "     {'price': 143017, 'snap': False, 'time': '2020-01-14T11:10:36Z'}]}},\n",
              "  'type': 11}]"
            ]
          },
          "metadata": {
            "tags": []
          },
          "execution_count": 13
        }
      ]
    },
    {
      "cell_type": "code",
      "metadata": {
        "colab": {
          "base_uri": "https://localhost:8080/"
        },
        "id": "Sb4j6HX95RfT",
        "outputId": "ccb06e4d-d414-4d10-90f6-5003ebc80c19"
      },
      "source": [
        "#first item in the list\n",
        "j[0]"
      ],
      "execution_count": 14,
      "outputs": [
        {
          "output_type": "execute_result",
          "data": {
            "text/plain": [
              "{'global': {'latest': 1062386,\n",
              "  'latest_time': '2020-01-14T08:20:20Z',\n",
              "  'week': {'change': -20.2,\n",
              "   'data': [{'price': 1330930, 'snap': True, 'time': '2020-01-07T08:26:57Z'},\n",
              "    {'price': 1271953, 'snap': True, 'time': '2020-01-08T08:13:52Z'},\n",
              "    {'price': 1103197, 'snap': True, 'time': '2020-01-09T08:31:43Z'},\n",
              "    {'price': 1239346, 'snap': True, 'time': '2020-01-11T08:33:59Z'},\n",
              "    {'price': 1062386, 'snap': True, 'time': '2020-01-14T08:20:20Z'}]}},\n",
              " 'global_sea_diff': -31.1,\n",
              " 'image': None,\n",
              " 'name': 'Mastela Fruit',\n",
              " 'sea': {'latest': 731711,\n",
              "  'latest_time': '2020-01-14T11:03:14Z',\n",
              "  'week': {'change': 4.5,\n",
              "   'data': [{'price': 699973, 'snap': False, 'time': '2020-01-07T11:08:25Z'},\n",
              "    {'price': 674722, 'snap': False, 'time': '2020-01-08T10:52:15Z'},\n",
              "    {'price': 665887, 'snap': False, 'time': '2020-01-09T11:24:06Z'},\n",
              "    {'price': 661969, 'snap': True, 'time': '2020-01-10T11:48:26Z'},\n",
              "    {'price': 693119, 'snap': True, 'time': '2020-01-11T11:35:06Z'},\n",
              "    {'price': 731711, 'snap': False, 'time': '2020-01-14T11:03:14Z'}]}},\n",
              " 'type': 8}"
            ]
          },
          "metadata": {
            "tags": []
          },
          "execution_count": 14
        }
      ]
    },
    {
      "cell_type": "markdown",
      "metadata": {
        "id": "XBTdxuj5HesN"
      },
      "source": [
        "* Using the correct indexing we can ask pandas to create a data frame from the dictionary we want inside this list"
      ]
    },
    {
      "cell_type": "code",
      "metadata": {
        "id": "wT-uKVu85RfT"
      },
      "source": [
        "#ask pandas to create a data frame from the dictionary we want inside this list\n",
        "import numpy as np\n",
        "import pandas as pd\n",
        "\n",
        "j[0]['name']\n",
        "dfglobal = pd.DataFrame(j[0]['global']['week']['data'])\n",
        "dfglobal['name'] = j[0]['name']\n",
        "dfglobal['server'] = 'Global'"
      ],
      "execution_count": 15,
      "outputs": []
    },
    {
      "cell_type": "code",
      "metadata": {
        "colab": {
          "base_uri": "https://localhost:8080/",
          "height": 204
        },
        "id": "NiO_kM_v5RfU",
        "outputId": "50d73f24-f80b-48be-db59-b817e0b98da4"
      },
      "source": [
        "dfglobal"
      ],
      "execution_count": 16,
      "outputs": [
        {
          "output_type": "execute_result",
          "data": {
            "text/html": [
              "<div>\n",
              "<style scoped>\n",
              "    .dataframe tbody tr th:only-of-type {\n",
              "        vertical-align: middle;\n",
              "    }\n",
              "\n",
              "    .dataframe tbody tr th {\n",
              "        vertical-align: top;\n",
              "    }\n",
              "\n",
              "    .dataframe thead th {\n",
              "        text-align: right;\n",
              "    }\n",
              "</style>\n",
              "<table border=\"1\" class=\"dataframe\">\n",
              "  <thead>\n",
              "    <tr style=\"text-align: right;\">\n",
              "      <th></th>\n",
              "      <th>snap</th>\n",
              "      <th>price</th>\n",
              "      <th>time</th>\n",
              "      <th>name</th>\n",
              "      <th>server</th>\n",
              "    </tr>\n",
              "  </thead>\n",
              "  <tbody>\n",
              "    <tr>\n",
              "      <th>0</th>\n",
              "      <td>True</td>\n",
              "      <td>1330930</td>\n",
              "      <td>2020-01-07T08:26:57Z</td>\n",
              "      <td>Mastela Fruit</td>\n",
              "      <td>Global</td>\n",
              "    </tr>\n",
              "    <tr>\n",
              "      <th>1</th>\n",
              "      <td>True</td>\n",
              "      <td>1271953</td>\n",
              "      <td>2020-01-08T08:13:52Z</td>\n",
              "      <td>Mastela Fruit</td>\n",
              "      <td>Global</td>\n",
              "    </tr>\n",
              "    <tr>\n",
              "      <th>2</th>\n",
              "      <td>True</td>\n",
              "      <td>1103197</td>\n",
              "      <td>2020-01-09T08:31:43Z</td>\n",
              "      <td>Mastela Fruit</td>\n",
              "      <td>Global</td>\n",
              "    </tr>\n",
              "    <tr>\n",
              "      <th>3</th>\n",
              "      <td>True</td>\n",
              "      <td>1239346</td>\n",
              "      <td>2020-01-11T08:33:59Z</td>\n",
              "      <td>Mastela Fruit</td>\n",
              "      <td>Global</td>\n",
              "    </tr>\n",
              "    <tr>\n",
              "      <th>4</th>\n",
              "      <td>True</td>\n",
              "      <td>1062386</td>\n",
              "      <td>2020-01-14T08:20:20Z</td>\n",
              "      <td>Mastela Fruit</td>\n",
              "      <td>Global</td>\n",
              "    </tr>\n",
              "  </tbody>\n",
              "</table>\n",
              "</div>"
            ],
            "text/plain": [
              "   snap    price                  time           name  server\n",
              "0  True  1330930  2020-01-07T08:26:57Z  Mastela Fruit  Global\n",
              "1  True  1271953  2020-01-08T08:13:52Z  Mastela Fruit  Global\n",
              "2  True  1103197  2020-01-09T08:31:43Z  Mastela Fruit  Global\n",
              "3  True  1239346  2020-01-11T08:33:59Z  Mastela Fruit  Global\n",
              "4  True  1062386  2020-01-14T08:20:20Z  Mastela Fruit  Global"
            ]
          },
          "metadata": {
            "tags": []
          },
          "execution_count": 16
        }
      ]
    },
    {
      "cell_type": "markdown",
      "metadata": {
        "id": "v5efjqIl5RfU"
      },
      "source": [
        "# Transform"
      ]
    },
    {
      "cell_type": "markdown",
      "metadata": {
        "id": "5VKSZeMRHo1v"
      },
      "source": [
        "* Now, we are checking for missing values in the dataset."
      ]
    },
    {
      "cell_type": "code",
      "metadata": {
        "colab": {
          "base_uri": "https://localhost:8080/"
        },
        "id": "VB_qO_B95RfV",
        "outputId": "3eab252f-24be-442b-8d2c-8f6822834b46"
      },
      "source": [
        "#Clean data\n",
        "dfglobal.isna().sum()"
      ],
      "execution_count": 17,
      "outputs": [
        {
          "output_type": "execute_result",
          "data": {
            "text/plain": [
              "snap      0\n",
              "price     0\n",
              "time      0\n",
              "name      0\n",
              "server    0\n",
              "dtype: int64"
            ]
          },
          "metadata": {
            "tags": []
          },
          "execution_count": 17
        }
      ]
    },
    {
      "cell_type": "markdown",
      "metadata": {
        "id": "NQkgz_dhH0bG"
      },
      "source": [
        "* There are no missing values."
      ]
    },
    {
      "cell_type": "code",
      "metadata": {
        "id": "nIIPlVAH5RfV"
      },
      "source": [
        "#Making the time column a pandas date-time format\n",
        "dfglobal.time = pd.to_datetime(dfglobal.time, errors='raise')"
      ],
      "execution_count": 18,
      "outputs": []
    },
    {
      "cell_type": "code",
      "metadata": {
        "colab": {
          "base_uri": "https://localhost:8080/",
          "height": 204
        },
        "id": "GVyIbCIq5RfW",
        "outputId": "7d014d81-98a2-4e18-b74a-528493d4ba18"
      },
      "source": [
        "dfglobal"
      ],
      "execution_count": 19,
      "outputs": [
        {
          "output_type": "execute_result",
          "data": {
            "text/html": [
              "<div>\n",
              "<style scoped>\n",
              "    .dataframe tbody tr th:only-of-type {\n",
              "        vertical-align: middle;\n",
              "    }\n",
              "\n",
              "    .dataframe tbody tr th {\n",
              "        vertical-align: top;\n",
              "    }\n",
              "\n",
              "    .dataframe thead th {\n",
              "        text-align: right;\n",
              "    }\n",
              "</style>\n",
              "<table border=\"1\" class=\"dataframe\">\n",
              "  <thead>\n",
              "    <tr style=\"text-align: right;\">\n",
              "      <th></th>\n",
              "      <th>snap</th>\n",
              "      <th>price</th>\n",
              "      <th>time</th>\n",
              "      <th>name</th>\n",
              "      <th>server</th>\n",
              "    </tr>\n",
              "  </thead>\n",
              "  <tbody>\n",
              "    <tr>\n",
              "      <th>0</th>\n",
              "      <td>True</td>\n",
              "      <td>1330930</td>\n",
              "      <td>2020-01-07 08:26:57+00:00</td>\n",
              "      <td>Mastela Fruit</td>\n",
              "      <td>Global</td>\n",
              "    </tr>\n",
              "    <tr>\n",
              "      <th>1</th>\n",
              "      <td>True</td>\n",
              "      <td>1271953</td>\n",
              "      <td>2020-01-08 08:13:52+00:00</td>\n",
              "      <td>Mastela Fruit</td>\n",
              "      <td>Global</td>\n",
              "    </tr>\n",
              "    <tr>\n",
              "      <th>2</th>\n",
              "      <td>True</td>\n",
              "      <td>1103197</td>\n",
              "      <td>2020-01-09 08:31:43+00:00</td>\n",
              "      <td>Mastela Fruit</td>\n",
              "      <td>Global</td>\n",
              "    </tr>\n",
              "    <tr>\n",
              "      <th>3</th>\n",
              "      <td>True</td>\n",
              "      <td>1239346</td>\n",
              "      <td>2020-01-11 08:33:59+00:00</td>\n",
              "      <td>Mastela Fruit</td>\n",
              "      <td>Global</td>\n",
              "    </tr>\n",
              "    <tr>\n",
              "      <th>4</th>\n",
              "      <td>True</td>\n",
              "      <td>1062386</td>\n",
              "      <td>2020-01-14 08:20:20+00:00</td>\n",
              "      <td>Mastela Fruit</td>\n",
              "      <td>Global</td>\n",
              "    </tr>\n",
              "  </tbody>\n",
              "</table>\n",
              "</div>"
            ],
            "text/plain": [
              "   snap    price                      time           name  server\n",
              "0  True  1330930 2020-01-07 08:26:57+00:00  Mastela Fruit  Global\n",
              "1  True  1271953 2020-01-08 08:13:52+00:00  Mastela Fruit  Global\n",
              "2  True  1103197 2020-01-09 08:31:43+00:00  Mastela Fruit  Global\n",
              "3  True  1239346 2020-01-11 08:33:59+00:00  Mastela Fruit  Global\n",
              "4  True  1062386 2020-01-14 08:20:20+00:00  Mastela Fruit  Global"
            ]
          },
          "metadata": {
            "tags": []
          },
          "execution_count": 19
        }
      ]
    },
    {
      "cell_type": "markdown",
      "metadata": {
        "id": "1UQUKj0XH7gc"
      },
      "source": [
        "* Here is a simple pandas groupby() method with an aggregate mean function to obtain insight into the average price between servers"
      ]
    },
    {
      "cell_type": "code",
      "metadata": {
        "colab": {
          "base_uri": "https://localhost:8080/"
        },
        "id": "D8yUsNRD5RfW",
        "outputId": "04c57a53-41d3-4ca9-d833-5fc5655edca3"
      },
      "source": [
        "#obtain insight into the average price between servers\n",
        "dfglobal.groupby('server')['price'].mean()"
      ],
      "execution_count": 20,
      "outputs": [
        {
          "output_type": "execute_result",
          "data": {
            "text/plain": [
              "server\n",
              "Global    1201562.4\n",
              "Name: price, dtype: float64"
            ]
          },
          "metadata": {
            "tags": []
          },
          "execution_count": 20
        }
      ]
    },
    {
      "cell_type": "markdown",
      "metadata": {
        "id": "3yqrbTet5RfX"
      },
      "source": [
        "# Load"
      ]
    },
    {
      "cell_type": "markdown",
      "metadata": {
        "id": "oyA2nbNcIERG"
      },
      "source": [
        "* We are now importing sqlite3 and are creating a connection to a database. \n",
        "* Doing so will automatically manifest a database. \n",
        "* The cur object below is a way to fetch results and keep track of results from queries you make in the SQL language."
      ]
    },
    {
      "cell_type": "code",
      "metadata": {
        "id": "thUd4q755RfX"
      },
      "source": [
        "import sqlite3 \n",
        "conn = sqlite3.connect('romexchange.db')\n",
        "cur = conn.cursor()"
      ],
      "execution_count": 21,
      "outputs": []
    },
    {
      "cell_type": "markdown",
      "metadata": {
        "id": "pnf3FlYtIPgo"
      },
      "source": [
        "* We can load the data frame we have created into an SQL table"
      ]
    },
    {
      "cell_type": "code",
      "metadata": {
        "id": "6QJz6yay5RfY"
      },
      "source": [
        "#load the data frame we have created into an SQL table\n",
        "dfglobal.to_sql(name='abyss_flowers', if_exists='replace', con=conn)"
      ],
      "execution_count": 22,
      "outputs": []
    },
    {
      "cell_type": "markdown",
      "metadata": {
        "id": "jZOpD_v5IRHy"
      },
      "source": [
        "* We can perform a fetchall() to check the data exists in the database"
      ]
    },
    {
      "cell_type": "code",
      "metadata": {
        "colab": {
          "base_uri": "https://localhost:8080/"
        },
        "id": "9rfYtvVo5RfZ",
        "outputId": "8c5e45e8-a464-465d-b805-6fbb989cf76e"
      },
      "source": [
        "#perform a fetchall() to check the data exists in the database\n",
        "cur.execute(\"\"\"SELECT * FROM abyss_flowers;\"\"\").fetchall()"
      ],
      "execution_count": 23,
      "outputs": [
        {
          "output_type": "execute_result",
          "data": {
            "text/plain": [
              "[(0, 1, 1330930, '2020-01-07 08:26:57+00:00', 'Mastela Fruit', 'Global'),\n",
              " (1, 1, 1271953, '2020-01-08 08:13:52+00:00', 'Mastela Fruit', 'Global'),\n",
              " (2, 1, 1103197, '2020-01-09 08:31:43+00:00', 'Mastela Fruit', 'Global'),\n",
              " (3, 1, 1239346, '2020-01-11 08:33:59+00:00', 'Mastela Fruit', 'Global'),\n",
              " (4, 1, 1062386, '2020-01-14 08:20:20+00:00', 'Mastela Fruit', 'Global')]"
            ]
          },
          "metadata": {
            "tags": []
          },
          "execution_count": 23
        }
      ]
    }
  ]
}
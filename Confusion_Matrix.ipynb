{
  "nbformat": 4,
  "nbformat_minor": 0,
  "metadata": {
    "colab": {
      "name": "Confusion_Matrix.ipynb",
      "provenance": [],
      "authorship_tag": "ABX9TyM23joHQV5JjpJUktMOJit0",
      "include_colab_link": true
    },
    "kernelspec": {
      "name": "python3",
      "display_name": "Python 3"
    },
    "language_info": {
      "name": "python"
    }
  },
  "cells": [
    {
      "cell_type": "markdown",
      "metadata": {
        "id": "view-in-github",
        "colab_type": "text"
      },
      "source": [
        "<a href=\"https://colab.research.google.com/github/PRAJWAL2108/MACHINE-LEARNING-2/blob/main/Confusion_Matrix.ipynb\" target=\"_parent\"><img src=\"https://colab.research.google.com/assets/colab-badge.svg\" alt=\"Open In Colab\"/></a>"
      ]
    },
    {
      "cell_type": "markdown",
      "metadata": {
        "id": "_qIMMPY2YbMo"
      },
      "source": [
        "* A Confusion matrix is an N x N matrix used for evaluating the performance of a classification model, where N is the number of target classes.\n",
        "* The matrix compares the actual target values with those predicted by the machine learning model.\n",
        "* This gives us a holistic view of how well our classification model is performing and what kinds of errors it is making."
      ]
    },
    {
      "cell_type": "markdown",
      "metadata": {
        "id": "R_IaCn88ZmsS"
      },
      "source": [
        "![image.png](data:image/png;base64,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)"
      ]
    },
    {
      "cell_type": "markdown",
      "metadata": {
        "id": "vnAx75TmYjnO"
      },
      "source": [
        "True Positive (TP)\n",
        "* The predicted value matches the actual value.\n",
        "* The actual value was positive and the model predicted a positive value.\n",
        "\n",
        "True Negative (TN)\n",
        "* The predicted value matches the actual value.\n",
        "* The actual value was negative and the model predicted a negative value.\n",
        "\n",
        "False Positive (FP) – Type 1 error \n",
        "* The predicted value was falsely predicted.\n",
        "* The actual value was negative but the model predicted a positive value.\n",
        "* Also known as the Type 1 error.\n",
        "\n",
        "False Negative (FN) – Type 2 error \n",
        "* The predicted value was falsely predicted.\n",
        "* The actual value was positive but the model predicted a negative value.\n",
        "* Also known as the Type 2 error."
      ]
    },
    {
      "cell_type": "code",
      "metadata": {
        "colab": {
          "base_uri": "https://localhost:8080/"
        },
        "id": "0gP7BC-sYI-J",
        "outputId": "a0cb5df9-da29-4c44-e7d0-8f333672a290"
      },
      "source": [
        "# confusion matrix in sklearn\n",
        "from sklearn.metrics import confusion_matrix\n",
        "from sklearn.metrics import classification_report\n",
        "# actual values\n",
        "actual = [1,0,0,1,0,0,1,0,0,1]\n",
        "# predicted values\n",
        "predicted = [1,0,0,1,0,0,0,1,0,0]\n",
        "# confusion matrix\n",
        "matrix = confusion_matrix(actual,predicted, labels=[1,0])\n",
        "print('Confusion matrix : \\n',matrix)"
      ],
      "execution_count": null,
      "outputs": [
        {
          "output_type": "stream",
          "text": [
            "Confusion matrix : \n",
            " [[2 2]\n",
            " [1 5]]\n"
          ],
          "name": "stdout"
        }
      ]
    },
    {
      "cell_type": "code",
      "metadata": {
        "colab": {
          "base_uri": "https://localhost:8080/"
        },
        "id": "z3Q6hthwYODi",
        "outputId": "81799777-e3e0-4576-ef7d-45d7ebae983b"
      },
      "source": [
        "# outcome values order in sklearn\n",
        "tp, fn, fp, tn = confusion_matrix(actual,predicted,labels=[1,0]).reshape(-1)\n",
        "print('Outcome values : \\n', tp, fn, fp, tn)\n",
        "# classification report for precision, recall f1-score and accuracy\n",
        "matrix = classification_report(actual,predicted,labels=[1,0])\n",
        "print('Classification report : \\n',matrix)"
      ],
      "execution_count": null,
      "outputs": [
        {
          "output_type": "stream",
          "text": [
            "Outcome values : \n",
            " 2 2 1 5\n",
            "Classification report : \n",
            "               precision    recall  f1-score   support\n",
            "\n",
            "           1       0.67      0.50      0.57         4\n",
            "           0       0.71      0.83      0.77         6\n",
            "\n",
            "    accuracy                           0.70        10\n",
            "   macro avg       0.69      0.67      0.67        10\n",
            "weighted avg       0.70      0.70      0.69        10\n",
            "\n"
          ],
          "name": "stdout"
        }
      ]
    }
  ]
}